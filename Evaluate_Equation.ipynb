{
  "nbformat": 4,
  "nbformat_minor": 0,
  "metadata": {
    "colab": {
      "name": "Evaluate_Equation.ipynb",
      "provenance": [],
      "collapsed_sections": []
    },
    "kernelspec": {
      "name": "python3",
      "display_name": "Python 3"
    },
    "accelerator": "GPU"
  },
  "cells": [
    {
      "cell_type": "code",
      "metadata": {
        "id": "82hgqELqFefM"
      },
      "source": [
        "import cv2\r\n",
        "import numpy as np\r\n",
        "import matplotlib.pyplot as plt\r\n",
        "import pandas as pd\r\n",
        "import os\r\n",
        "import imutils\r\n",
        "from google.colab.patches import cv2_imshow"
      ],
      "execution_count": 1,
      "outputs": []
    },
    {
      "cell_type": "markdown",
      "metadata": {
        "id": "-UEnb0L6F77K"
      },
      "source": [
        "Single line Detection : \r\n",
        "\r\n",
        "  Character Extraction -> CNN -> Evaluate Expression"
      ]
    },
    {
      "cell_type": "code",
      "metadata": {
        "id": "WFR_NpAsGRcE"
      },
      "source": [
        "def singleline(path):\r\n",
        "    #Character Extraction\r\n",
        "    img = cv2.imread(path,cv2.IMREAD_GRAYSCALE)\r\n",
        "    cv2_imshow(img)\r\n",
        "    cv2.waitKey(0)\r\n",
        "    cv2.destroyAllWindows()\r\n",
        "    img=~img\r\n",
        "    ret,thresh=cv2.threshold(img,127,255,cv2.THRESH_BINARY)\r\n",
        "    ctrs,ret=cv2.findContours(thresh,cv2.RETR_TREE,cv2.CHAIN_APPROX_SIMPLE)\r\n",
        "    cnt=sorted(ctrs, key=lambda ctr: cv2.boundingRect(ctr)[0])\r\n",
        "    train_data=[]\r\n",
        "    rects=[]\r\n",
        "    #make list of boundingrect coord\r\n",
        "    for c in cnt :\r\n",
        "        x,y,w,h= cv2.boundingRect(c)\r\n",
        "        rect=[x,y,w,h]\r\n",
        "        rects.append(rect)\r\n",
        "    bool_rect=[]\r\n",
        "    #check if boxes are overlapping\r\n",
        "    for r in rects:\r\n",
        "        l=[]\r\n",
        "        for rec in rects:\r\n",
        "            flag=0\r\n",
        "            if rec!=r:\r\n",
        "                if r[0]<(rec[0]+rec[2]+10) and rec[0]<(r[0]+r[2]+10) and r[1]<(rec[1]+rec[3]+10) and rec[1]<(r[1]+r[3]+10):\r\n",
        "                    flag=1\r\n",
        "                l.append(flag)\r\n",
        "            if rec==r:\r\n",
        "                l.append(0)\r\n",
        "        bool_rect.append(l)\r\n",
        "    dump_rect=[]\r\n",
        "    \r\n",
        "    final_rect=[i for i in rects if i not in dump_rect]\r\n",
        "    for r in final_rect:\r\n",
        "        x=r[0]\r\n",
        "        y=r[1]\r\n",
        "        w=r[2]\r\n",
        "        h=r[3]\r\n",
        "        im_crop =thresh[y:y+h+10,x:x+w+10]\r\n",
        "        im_resize = cv2.resize(im_crop,(28,28))\r\n",
        "        print(\"Extracted Character\\n\")\r\n",
        "        cv2_imshow(im_resize)\r\n",
        "        cv2.waitKey(0)\r\n",
        "        cv2.destroyAllWindows()\r\n",
        "        print(\"\\n\")\r\n",
        "        im_resize = np.reshape(im_resize,(784))\r\n",
        "        \r\n",
        "        train_data.append(im_resize)\r\n",
        "    return train_data\r\n",
        "  "
      ],
      "execution_count": 25,
      "outputs": []
    },
    {
      "cell_type": "code",
      "metadata": {
        "colab": {
          "base_uri": "https://localhost:8080/",
          "height": 899
        },
        "id": "DQ-K5kFdmN6p",
        "outputId": "77acdba3-cc1a-4557-906a-691e860c8dc8"
      },
      "source": [
        "train_data = singleline('/content/drive/MyDrive/test2.jpg')\r\n",
        "train_data = np.array(train_data)"
      ],
      "execution_count": 26,
      "outputs": [
        {
          "output_type": "display_data",
          "data": {
            "image/png": "[encoded data removed]",
            "text/plain": [
              "<PIL.Image.Image image mode=L size=1133x903 at 0x7F2B6BF9F7F0>"
            ]
          },
          "metadata": {
            "tags": []
          }
        },
        {
          "output_type": "stream",
          "text": [
            "Extracted Character\n",
            "\n"
          ],
          "name": "stdout"
        },
        {
          "output_type": "display_data",
          "data": {
            "image/png": "[encoded data removed]",
            "text/plain": [
              "<PIL.Image.Image image mode=L size=28x28 at 0x7F2B6BF9F400>"
            ]
          },
          "metadata": {
            "tags": []
          }
        },
        {
          "output_type": "stream",
          "text": [
            "\n",
            "\n",
            "Extracted Character\n",
            "\n"
          ],
          "name": "stdout"
        },
        {
          "output_type": "display_data",
          "data": {
            "image/png": "[encoded data removed]",
            "text/plain": [
              "<PIL.Image.Image image mode=L size=28x28 at 0x7F2B6BF9F978>"
            ]
          },
          "metadata": {
            "tags": []
          }
        },
        {
          "output_type": "stream",
          "text": [
            "\n",
            "\n",
            "Extracted Character\n",
            "\n"
          ],
          "name": "stdout"
        },
        {
          "output_type": "display_data",
          "data": {
            "image/png": "[encoded data removed]",
            "text/plain": [
              "<PIL.Image.Image image mode=L size=28x28 at 0x7F2B6BF9F400>"
            ]
          },
          "metadata": {
            "tags": []
          }
        },
        {
          "output_type": "stream",
          "text": [
            "\n",
            "\n",
            "Extracted Character\n",
            "\n"
          ],
          "name": "stdout"
        },
        {
          "output_type": "display_data",
          "data": {
            "image/png": "[encoded data removed]",
            "text/plain": [
              "<PIL.Image.Image image mode=L size=28x28 at 0x7F2B6BF9F978>"
            ]
          },
          "metadata": {
            "tags": []
          }
        },
        {
          "output_type": "stream",
          "text": [
            "\n",
            "\n"
          ],
          "name": "stdout"
        }
      ]
    },
    {
      "cell_type": "code",
      "metadata": {
        "colab": {
          "base_uri": "https://localhost:8080/"
        },
        "id": "EYZ-J8GKyYZf",
        "outputId": "04c6971b-39e4-4589-c931-6013a7d01e6a"
      },
      "source": [
        "train_data.shape"
      ],
      "execution_count": 27,
      "outputs": [
        {
          "output_type": "execute_result",
          "data": {
            "text/plain": [
              "(4, 784)"
            ]
          },
          "metadata": {
            "tags": []
          },
          "execution_count": 27
        }
      ]
    },
    {
      "cell_type": "code",
      "metadata": {
        "id": "HPGlJaTwyrMl"
      },
      "source": [
        "train_data= np.dstack([train_data] * 3)\r\n",
        "train_data = train_data.reshape(-1, 28,28,3)"
      ],
      "execution_count": 28,
      "outputs": []
    },
    {
      "cell_type": "code",
      "metadata": {
        "colab": {
          "base_uri": "https://localhost:8080/"
        },
        "id": "bRbQQ5_xys-X",
        "outputId": "0f3a4072-c663-4cd7-b44a-cc9fb93c9ee3"
      },
      "source": [
        "x=train_data[0].reshape(1,28,28,3)\r\n",
        "x.shape"
      ],
      "execution_count": 29,
      "outputs": [
        {
          "output_type": "execute_result",
          "data": {
            "text/plain": [
              "(1, 28, 28, 3)"
            ]
          },
          "metadata": {
            "tags": []
          },
          "execution_count": 29
        }
      ]
    },
    {
      "cell_type": "code",
      "metadata": {
        "id": "14tevg_-wHKV"
      },
      "source": [
        "from keras.models import model_from_json\r\n",
        "json_file = open('/content/drive/MyDrive/Equation Solver/model_final.json', 'r')\r\n",
        "loaded_model_json = json_file.read()\r\n",
        "json_file.close()\r\n",
        "loaded_model = model_from_json(loaded_model_json)\r\n",
        "# load weights into new model\r\n",
        "loaded_model.load_weights(\"/content/drive/MyDrive/Equation Solver/model_final.h5\")"
      ],
      "execution_count": 30,
      "outputs": []
    },
    {
      "cell_type": "code",
      "metadata": {
        "colab": {
          "base_uri": "https://localhost:8080/"
        },
        "id": "h0nxr_BQwFAT",
        "outputId": "a58c08cf-a6b1-4b03-8a31-900936ef943d"
      },
      "source": [
        "s=''\r\n",
        "for i in range(len(train_data)):\r\n",
        "    x=train_data[i].reshape(1,28,28,3)\r\n",
        "    result=np.argmax(loaded_model.predict(x))\r\n",
        "    if(result==10):\r\n",
        "        s=s+'-'\r\n",
        "    if(result==11):\r\n",
        "        s=s+'+'\r\n",
        "    if(result==12):\r\n",
        "        s=s+'*'\r\n",
        "    if(result==0):\r\n",
        "        s=s+'0'\r\n",
        "    if(result==1):\r\n",
        "        s=s+'1'\r\n",
        "    if(result==2):\r\n",
        "        s=s+'2'\r\n",
        "    if(result==3):\r\n",
        "        s=s+'3'\r\n",
        "    if(result==4):\r\n",
        "        s=s+'4'\r\n",
        "    if(result==5):\r\n",
        "        s=s+'5'\r\n",
        "    if(result==6):\r\n",
        "        s=s+'6'\r\n",
        "    if(result==7):\r\n",
        "        s=s+'7'\r\n",
        "    if(result==8):\r\n",
        "        s=s+'8'\r\n",
        "    if(result==9):\r\n",
        "        s=s+'9'\r\n",
        "    \r\n",
        "print(s)"
      ],
      "execution_count": 31,
      "outputs": [
        {
          "output_type": "stream",
          "text": [
            "17+7\n"
          ],
          "name": "stdout"
        }
      ]
    },
    {
      "cell_type": "code",
      "metadata": {
        "colab": {
          "base_uri": "https://localhost:8080/"
        },
        "id": "y2QvWxZa0hQX",
        "outputId": "04f313bd-4a97-480b-d96e-25f48d4acf40"
      },
      "source": [
        "eval(s)"
      ],
      "execution_count": 32,
      "outputs": [
        {
          "output_type": "execute_result",
          "data": {
            "text/plain": [
              "24"
            ]
          },
          "metadata": {
            "tags": []
          },
          "execution_count": 32
        }
      ]
    }
  ]
}